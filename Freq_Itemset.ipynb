{
 "cells": [
  {
   "cell_type": "markdown",
   "metadata": {},
   "source": [
    "# Association Rule Mining in Mass-Spectrometry Data\n",
    "### *Muhammad Haseeb and Muhammad Usman Tariq*\n",
    "##### *CAP6778: Adv. Topics in Data Mining - Fall 2019*\n",
    "##### *School of Computing and Information Sciences (SCIS)*\n",
    "##### *Florida International University (FIU)*"
   ]
  },
  {
   "cell_type": "markdown",
   "metadata": {},
   "source": [
    "### The MIT License\n",
    "\n",
    "##### *Copyright 2019 Muhammad Haseeb and Muhammad Usman Tariq*\n",
    "\n",
    "Permission is hereby granted, free of charge, to any person obtaining a copy of this software \n",
    "and associated documentation files (the \"Software\"), to deal in the Software without restriction, \n",
    "including without limitation the rights to use, copy, modify, merge, publish, distribute, sublicense, \n",
    "and/or sell copies of the Software, and to permit persons to whom the Software is furnished to do so, \n",
    "subject to the following conditions:\n",
    "\n",
    "The above copyright notice and this permission notice shall be included in all copies or substantial \n",
    "portions of the Software.\n",
    "\n",
    "THE SOFTWARE IS PROVIDED \"AS IS\", WITHOUT WARRANTY OF ANY KIND, EXPRESS OR IMPLIED, INCLUDING BUT NOT \n",
    "LIMITED TO THE WARRANTIES OF MERCHANTABILITY, FITNESS FOR A PARTICULAR PURPOSE AND NONINFRINGEMENT. \n",
    "IN NO EVENT SHALL THE AUTHORS OR COPYRIGHT HOLDERS BE LIABLE FOR ANY CLAIM, DAMAGES OR OTHER LIABILITY, \n",
    "WHETHER IN AN ACTION OF CONTRACT, TORT OR OTHERWISE, ARISING FROM, OUT OF OR IN CONNECTION WITH THE \n",
    "SOFTWARE OR THE USE OR OTHER DEALINGS IN THE SOFTWARE."
   ]
  },
  {
   "cell_type": "markdown",
   "metadata": {},
   "source": [
    "## Required Imports"
   ]
  },
  {
   "cell_type": "code",
   "execution_count": 1,
   "metadata": {},
   "outputs": [],
   "source": [
    "# Import the required libraries\n",
    "import os\n",
    "import re\n",
    "import sys\n",
    "import math\n",
    "import time\n",
    "import urllib\n",
    "import operator\n",
    "import numpy as np\n",
    "import pandas as pd\n",
    "import matplotlib.pyplot as plt\n",
    "\n",
    "from mlxtend.frequent_patterns import apriori\n",
    "from mlxtend.frequent_patterns import association_rules\n",
    "from IPython.display import clear_output"
   ]
  },
  {
   "cell_type": "markdown",
   "metadata": {},
   "source": [
    "## Data Acquisition\n",
    "Let's get the annotated HUMAN MS/MS spectral data libraries from <a href=\"https://chemdata.nist.gov/dokuwiki/doku.php?id=peptidew:cdownload\" class=\"external\">NIST.</a> Note that this can be done for any spectral library or multiple spectral libraries at once as well."
   ]
  },
  {
   "cell_type": "code",
   "execution_count": 2,
   "metadata": {},
   "outputs": [
    {
     "name": "stdout",
     "output_type": "stream",
     "text": [
      "cptac2_mouse_hcd_selected.msp\n"
     ]
    }
   ],
   "source": [
    "mouse = 'cptac2_mouse_hcd_selected.msp.tar.gz'\n",
    "msp_file = './data/cptac2_mouse_hcd_selected.msp'\n",
    "data_dir = os.path.expanduser(\"./data\")\n",
    "\n",
    "if not os.path.isdir(data_dir):\n",
    "    os.mkdir(data_dir)\n",
    "\n",
    "if not os.path.exists(msp_file):\n",
    "    if not os.path.exists(mouse):\n",
    "        !wget 'ftp://chemdata.nist.gov/download/peptide_library/libraries/cptaclib/2015/cptac2_mouse_hcd_selected.msp.tar.gz'\n",
    "    \n",
    "    # Extract the tar ball into MSP file and move into the speclib folder\n",
    "    !tar xvf 'cptac2_mouse_hcd_selected.msp.tar.gz'\n",
    "    os.rename('./cptac2_mouse_hcd_selected.msp', msp_file)"
   ]
  },
  {
   "cell_type": "markdown",
   "metadata": {},
   "source": [
    "### Data Extraction Hyperparameters"
   ]
  },
  {
   "cell_type": "code",
   "execution_count": 3,
   "metadata": {},
   "outputs": [],
   "source": [
    "# Data extraction Hyperparamters\n",
    "divider = 5                     # Divide every m/z by this number.\n",
    "max_len = int(10000 / divider)  # Max allowed m/z value.\n",
    "filter_peaks = 100              # How many peaks to keep after filteration."
   ]
  },
  {
   "cell_type": "code",
   "execution_count": 4,
   "metadata": {},
   "outputs": [],
   "source": [
    "'''To keep updating this dict for multiple files. Dont define it again.'''\n",
    "pep_spec = {}"
   ]
  },
  {
   "cell_type": "markdown",
   "metadata": {},
   "source": [
    "### MSP File Parser\n",
    "\n",
    "Read the MSP file, extract the required ions and pre-prcocess spectra"
   ]
  },
  {
   "cell_type": "code",
   "execution_count": 5,
   "metadata": {},
   "outputs": [
    {
     "name": "stdout",
     "output_type": "stream",
     "text": [
      "99%\n"
     ]
    }
   ],
   "source": [
    "f=open(msp_file, \"r\")\n",
    "lines = f.readlines()\n",
    "f.close()\n",
    "\n",
    "isName = isMW = isNumPeaks = False\n",
    "new = prev = 0\n",
    "i = 0\n",
    "\n",
    "\n",
    "while i < len(lines):\n",
    "    '''\n",
    "    Process each line of the file.\n",
    "    '''\n",
    "    line = lines[i]\n",
    "    i += 1\n",
    "    \n",
    "    splits = line.split(':')\n",
    "    \n",
    "    '''Keep going through lines. Name line is peptide and\n",
    "    all the lines after Num peaks are the spectrum'''\n",
    "    if splits[0] == 'Name':\n",
    "        split1 = splits[1]\n",
    "        pep = split1.split('/')[0].lstrip(' ')\n",
    "        isName = True\n",
    "        \n",
    "    if isName and splits[0] == 'MW':\n",
    "        mass = float(splits[1]) # Not using it anywhere. It's just there.\n",
    "        isMW = True\n",
    "        \n",
    "    if isName and isMW and splits[0] == 'Num peaks':\n",
    "        '''After this line, we will start processing the spectrum.'''\n",
    "        numPeaks = int(splits[1]) # Just in case.\n",
    "        \n",
    "        temp_spec = np.zeros(max_len)\n",
    "        while (lines[i] != '\\n'):\n",
    "            mzline = lines[i]\n",
    "            i += 1\n",
    "            mzsplits = mzline.split('\\t')\n",
    "            # Get the m/z and intenisty value of each line.\n",
    "            moz, intensity, pattern = float(mzsplits[0]), float(mzsplits[1]), mzsplits[2]\n",
    "\n",
    "            # Filter out only the non-noisy terminal ions from the spectrum\n",
    "            lbls = re.findall(r\"(?<!\\/)(?<![A-Z])([abcxyz][0-9]+)\", pattern)\n",
    "\n",
    "            if lbls:\n",
    "                # Dividing m/z by the divider.\n",
    "                temp_spec[round(moz / divider)] = intensity\n",
    "\n",
    "        isNumPeaks = True\n",
    "        \n",
    "    if isName and isMW and isNumPeaks:\n",
    "        '''At this point, we are done reading one spectrum.\n",
    "        Place everything where it needs to go and read the next one.'''\n",
    "        isName = isMW = isNumPeaks = False\n",
    "        \n",
    "        # This is the filter. Gets the top 100 peaks\n",
    "        # and returns them in one hot encoded vector of size max_len\n",
    "        top_indx = np.argpartition(temp_spec, -filter_peaks)[-filter_peaks:]\n",
    "        spec = np.zeros(max_len)\n",
    "        spec[top_indx] = 1\n",
    "        \n",
    "        # Creating dictionary. Key: peptide, Value: spectrum.\n",
    "        # As a side effect we'll get rid of duplicates.\n",
    "        if pep not in pep_spec: pep_spec[pep] = spec\n",
    "        \n",
    "        # Displays the progress.\n",
    "        new = int((i/len(lines)) * 100)\n",
    "        if new > prev:\n",
    "            clear_output(wait=True)\n",
    "            print(str(new) + '%')\n",
    "            prev = new\n"
   ]
  },
  {
   "cell_type": "markdown",
   "metadata": {},
   "source": [
    "## Frequent Itemset Mining\n",
    "Construct the market-basket dataframe."
   ]
  },
  {
   "cell_type": "markdown",
   "metadata": {},
   "source": [
    "### Frequent Itemset Hyperparameters"
   ]
  },
  {
   "cell_type": "code",
   "execution_count": null,
   "metadata": {},
   "outputs": [],
   "source": [
    "max_itemset_size = 7     # Max size of the frequent itemsets.\n",
    "min_support = 0.10       # Maybe we should increase this?"
   ]
  },
  {
   "cell_type": "markdown",
   "metadata": {},
   "source": [
    "### DataFrame Construction"
   ]
  },
  {
   "cell_type": "code",
   "execution_count": 6,
   "metadata": {},
   "outputs": [
    {
     "name": "stdout",
     "output_type": "stream",
     "text": [
      "10026\n"
     ]
    }
   ],
   "source": [
    "# Just get the value from the dict.\n",
    "buckets = list(pep_spec.values())\n",
    "print(len(buckets))\n",
    "\n",
    "# The apriori function needs a dataframe.\n",
    "df_buckets = pd.DataFrame(buckets, columns=list(range(0, max_len)))"
   ]
  },
  {
   "cell_type": "markdown",
   "metadata": {},
   "source": [
    "### Apriori Algorithm\n",
    "Using fast implementation of apriori algorithm from: *Agrawal, Rakesh, and Ramakrishnan Srikant. \"Fast algorithms for mining association rules.\" Proc. 20th int. conf. very large data bases, VLDB. Vol. 1215. 1994*\n",
    "\n",
    "Reference: http://rasbt.github.io/mlxtend/user_guide/frequent_patterns/apriori/"
   ]
  },
  {
   "cell_type": "code",
   "execution_count": null,
   "metadata": {},
   "outputs": [
    {
     "name": "stdout",
     "output_type": "stream",
     "text": [
      "Iteration: 28090247 | Sampling itemset size 5"
     ]
    }
   ],
   "source": [
    "freq_itemsets = apriori(df_buckets,\n",
    "                        min_support=min_support, \n",
    "                        max_len=max_itemset_size, \n",
    "                        verbose=1,\n",
    "                        low_memory=True)"
   ]
  },
  {
   "cell_type": "markdown",
   "metadata": {},
   "source": [
    "### Freq Itemsets Visualization\n",
    "\n",
    "Now that we have mined the frequent itemsets from the dataframe, let's visualize some stats and see if we need to refine any hyperparameters and mine itemsets again."
   ]
  },
  {
   "cell_type": "code",
   "execution_count": null,
   "metadata": {},
   "outputs": [],
   "source": []
  },
  {
   "cell_type": "markdown",
   "metadata": {},
   "source": [
    "The stats looks good. Let's mine the association rules."
   ]
  },
  {
   "cell_type": "markdown",
   "metadata": {},
   "source": [
    "## Association Rule Mining\n",
    "\n",
    "Let's mine association rules from the obtained frequent itemsets and take a look at rules ($R = I\\rightarrow j$) with high *confidence* ($Conf$) and *interest* ($Interest$):\n",
    "\n",
    "$$\n",
    "Conf(I\\rightarrow j) = \\frac{Support(I \\cup j)}{Support(I)}\n",
    "$$\n",
    "\n",
    "$$\n",
    "Interest(I \\rightarrow j) = Conf(I\\rightarrow j) - Pr [j]\n",
    "$$\n",
    "where $Pr [j]$ is the probability of the item $j$ computed directly from the dataset."
   ]
  },
  {
   "cell_type": "markdown",
   "metadata": {},
   "source": [
    "### Assocaiation Rules Hyperparameters"
   ]
  },
  {
   "cell_type": "code",
   "execution_count": null,
   "metadata": {},
   "outputs": [],
   "source": [
    "confidence = 0.80     # Association Rule Confidence\n",
    "interest   = 0.30     # Association Rule Interest"
   ]
  },
  {
   "cell_type": "markdown",
   "metadata": {},
   "source": [
    "### Association Rules"
   ]
  },
  {
   "cell_type": "code",
   "execution_count": null,
   "metadata": {},
   "outputs": [],
   "source": []
  },
  {
   "cell_type": "code",
   "execution_count": null,
   "metadata": {},
   "outputs": [],
   "source": []
  }
 ],
 "metadata": {
  "kernelspec": {
   "display_name": "Python 3",
   "language": "python",
   "name": "python3"
  },
  "language_info": {
   "codemirror_mode": {
    "name": "ipython",
    "version": 3
   },
   "file_extension": ".py",
   "mimetype": "text/x-python",
   "name": "python",
   "nbconvert_exporter": "python",
   "pygments_lexer": "ipython3",
   "version": "3.7.5"
  }
 },
 "nbformat": 4,
 "nbformat_minor": 4
}
